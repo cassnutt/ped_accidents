{
 "cells": [
  {
   "cell_type": "code",
   "execution_count": 1,
   "metadata": {
    "ExecuteTime": {
     "end_time": "2021-07-02T13:28:57.721232Z",
     "start_time": "2021-07-02T13:28:56.891588Z"
    }
   },
   "outputs": [],
   "source": [
    "import pandas as pd\n",
    "import numpy as np\n",
    "import matplotlib.pyplot as plt\n",
    "import seaborn as sns"
   ]
  },
  {
   "cell_type": "code",
   "execution_count": 2,
   "metadata": {
    "ExecuteTime": {
     "end_time": "2021-07-02T13:28:57.959687Z",
     "start_time": "2021-07-02T13:28:57.722235Z"
    }
   },
   "outputs": [
    {
     "name": "stderr",
     "output_type": "stream",
     "text": [
      "C:\\Users\\ozbun\\anaconda3\\lib\\site-packages\\IPython\\core\\interactiveshell.py:3146: DtypeWarning: Columns (3,4,5,23,24,25,26) have mixed types.Specify dtype option on import or set low_memory=False.\n",
      "  has_raised = await self.run_ast_nodes(code_ast.body, cell_name,\n"
     ]
    }
   ],
   "source": [
    "\n",
    "df = pd.read_csv('crash_rates.csv')\n",
    "pd.set_option('display.max_columns', None)"
   ]
  },
  {
   "cell_type": "code",
   "execution_count": 3,
   "metadata": {
    "ExecuteTime": {
     "end_time": "2021-07-02T13:28:57.991716Z",
     "start_time": "2021-07-02T13:28:57.960688Z"
    }
   },
   "outputs": [
    {
     "data": {
      "text/html": [
       "<div>\n",
       "<style scoped>\n",
       "    .dataframe tbody tr th:only-of-type {\n",
       "        vertical-align: middle;\n",
       "    }\n",
       "\n",
       "    .dataframe tbody tr th {\n",
       "        vertical-align: top;\n",
       "    }\n",
       "\n",
       "    .dataframe thead th {\n",
       "        text-align: right;\n",
       "    }\n",
       "</style>\n",
       "<table border=\"1\" class=\"dataframe\">\n",
       "  <thead>\n",
       "    <tr style=\"text-align: right;\">\n",
       "      <th></th>\n",
       "      <th>borough</th>\n",
       "      <th>contributing_factor_vehicle_1</th>\n",
       "      <th>contributing_factor_vehicle_2</th>\n",
       "      <th>contributing_factor_vehicle_3</th>\n",
       "      <th>contributing_factor_vehicle_4</th>\n",
       "      <th>contributing_factor_vehicle_5</th>\n",
       "      <th>cross_street_name</th>\n",
       "      <th>timestamp</th>\n",
       "      <th>latitude</th>\n",
       "      <th>longitude</th>\n",
       "      <th>location</th>\n",
       "      <th>number_of_cyclist_injured</th>\n",
       "      <th>number_of_cyclist_killed</th>\n",
       "      <th>number_of_motorist_injured</th>\n",
       "      <th>number_of_motorist_killed</th>\n",
       "      <th>number_of_pedestrians_injured</th>\n",
       "      <th>number_of_pedestrians_killed</th>\n",
       "      <th>number_of_persons_injured</th>\n",
       "      <th>number_of_persons_killed</th>\n",
       "      <th>off_street_name</th>\n",
       "      <th>on_street_name</th>\n",
       "      <th>unique_key</th>\n",
       "      <th>vehicle_type_code1</th>\n",
       "      <th>vehicle_type_code2</th>\n",
       "      <th>vehicle_type_code_3</th>\n",
       "      <th>vehicle_type_code_4</th>\n",
       "      <th>vehicle_type_code_5</th>\n",
       "      <th>zip_code</th>\n",
       "    </tr>\n",
       "  </thead>\n",
       "  <tbody>\n",
       "    <tr>\n",
       "      <th>0</th>\n",
       "      <td>BRONX</td>\n",
       "      <td>Unspecified</td>\n",
       "      <td>Unspecified</td>\n",
       "      <td>NaN</td>\n",
       "      <td>NaN</td>\n",
       "      <td>NaN</td>\n",
       "      <td>EAST 156 STREET</td>\n",
       "      <td>1/16/2014 23:30</td>\n",
       "      <td>40.814934</td>\n",
       "      <td>-73.897645</td>\n",
       "      <td>(40.8149337, -73.8976455)</td>\n",
       "      <td>0</td>\n",
       "      <td>0</td>\n",
       "      <td>2</td>\n",
       "      <td>0</td>\n",
       "      <td>1</td>\n",
       "      <td>0</td>\n",
       "      <td>3</td>\n",
       "      <td>0.0</td>\n",
       "      <td>NaN</td>\n",
       "      <td>SOUTHERN BOULEVARD</td>\n",
       "      <td>78403</td>\n",
       "      <td>PASSENGER VEHICLE</td>\n",
       "      <td>LIVERY VEHICLE</td>\n",
       "      <td>NaN</td>\n",
       "      <td>NaN</td>\n",
       "      <td>NaN</td>\n",
       "      <td>10455.0</td>\n",
       "    </tr>\n",
       "    <tr>\n",
       "      <th>1</th>\n",
       "      <td>BROOKLYN</td>\n",
       "      <td>Unspecified</td>\n",
       "      <td>Unspecified</td>\n",
       "      <td>NaN</td>\n",
       "      <td>NaN</td>\n",
       "      <td>NaN</td>\n",
       "      <td>CLASSON AVENUE</td>\n",
       "      <td>8/13/2013 6:50</td>\n",
       "      <td>40.694012</td>\n",
       "      <td>-73.961094</td>\n",
       "      <td>(40.6940116, -73.9610935)</td>\n",
       "      <td>0</td>\n",
       "      <td>0</td>\n",
       "      <td>0</td>\n",
       "      <td>0</td>\n",
       "      <td>1</td>\n",
       "      <td>0</td>\n",
       "      <td>1</td>\n",
       "      <td>0.0</td>\n",
       "      <td>NaN</td>\n",
       "      <td>MYRTLE AVENUE</td>\n",
       "      <td>193101</td>\n",
       "      <td>PASSENGER VEHICLE</td>\n",
       "      <td>PEDICAB</td>\n",
       "      <td>NaN</td>\n",
       "      <td>NaN</td>\n",
       "      <td>NaN</td>\n",
       "      <td>11205.0</td>\n",
       "    </tr>\n",
       "    <tr>\n",
       "      <th>2</th>\n",
       "      <td>BROOKLYN</td>\n",
       "      <td>Unspecified</td>\n",
       "      <td>Unspecified</td>\n",
       "      <td>NaN</td>\n",
       "      <td>NaN</td>\n",
       "      <td>NaN</td>\n",
       "      <td>VANDERBILT AVENUE</td>\n",
       "      <td>7/6/2013 21:25</td>\n",
       "      <td>40.689469</td>\n",
       "      <td>-73.969105</td>\n",
       "      <td>(40.6894687, -73.9691048)</td>\n",
       "      <td>0</td>\n",
       "      <td>0</td>\n",
       "      <td>0</td>\n",
       "      <td>0</td>\n",
       "      <td>1</td>\n",
       "      <td>0</td>\n",
       "      <td>1</td>\n",
       "      <td>0.0</td>\n",
       "      <td>NaN</td>\n",
       "      <td>DE KALB AVENUE</td>\n",
       "      <td>192934</td>\n",
       "      <td>PASSENGER VEHICLE</td>\n",
       "      <td>SCOOTER</td>\n",
       "      <td>NaN</td>\n",
       "      <td>NaN</td>\n",
       "      <td>NaN</td>\n",
       "      <td>11205.0</td>\n",
       "    </tr>\n",
       "    <tr>\n",
       "      <th>3</th>\n",
       "      <td>QUEENS</td>\n",
       "      <td>Driver Inattention/Distraction</td>\n",
       "      <td>NaN</td>\n",
       "      <td>NaN</td>\n",
       "      <td>NaN</td>\n",
       "      <td>NaN</td>\n",
       "      <td>NaN</td>\n",
       "      <td>4/6/2019 9:50</td>\n",
       "      <td>40.592907</td>\n",
       "      <td>-73.795310</td>\n",
       "      <td>(40.592907, -73.79531)</td>\n",
       "      <td>0</td>\n",
       "      <td>0</td>\n",
       "      <td>0</td>\n",
       "      <td>0</td>\n",
       "      <td>1</td>\n",
       "      <td>0</td>\n",
       "      <td>1</td>\n",
       "      <td>0.0</td>\n",
       "      <td>66-08     BEACH CHANNEL DRIVE</td>\n",
       "      <td>NaN</td>\n",
       "      <td>4109774</td>\n",
       "      <td>Sedan</td>\n",
       "      <td>Truck</td>\n",
       "      <td>NaN</td>\n",
       "      <td>NaN</td>\n",
       "      <td>NaN</td>\n",
       "      <td>11692.0</td>\n",
       "    </tr>\n",
       "    <tr>\n",
       "      <th>4</th>\n",
       "      <td>MANHATTAN</td>\n",
       "      <td>Alcohol Involvement</td>\n",
       "      <td>Unspecified</td>\n",
       "      <td>NaN</td>\n",
       "      <td>NaN</td>\n",
       "      <td>NaN</td>\n",
       "      <td>7 AVENUE SOUTH</td>\n",
       "      <td>2/17/2013 0:20</td>\n",
       "      <td>40.733633</td>\n",
       "      <td>-74.002786</td>\n",
       "      <td>(40.7336333, -74.0027856)</td>\n",
       "      <td>0</td>\n",
       "      <td>0</td>\n",
       "      <td>0</td>\n",
       "      <td>0</td>\n",
       "      <td>2</td>\n",
       "      <td>0</td>\n",
       "      <td>2</td>\n",
       "      <td>0.0</td>\n",
       "      <td>NaN</td>\n",
       "      <td>CHRISTOPHER STREET</td>\n",
       "      <td>10452</td>\n",
       "      <td>PASSENGER VEHICLE</td>\n",
       "      <td>LIVERY VEHICLE</td>\n",
       "      <td>NaN</td>\n",
       "      <td>NaN</td>\n",
       "      <td>NaN</td>\n",
       "      <td>10014.0</td>\n",
       "    </tr>\n",
       "  </tbody>\n",
       "</table>\n",
       "</div>"
      ],
      "text/plain": [
       "     borough   contributing_factor_vehicle_1 contributing_factor_vehicle_2  \\\n",
       "0      BRONX                     Unspecified                   Unspecified   \n",
       "1   BROOKLYN                     Unspecified                   Unspecified   \n",
       "2   BROOKLYN                     Unspecified                   Unspecified   \n",
       "3     QUEENS  Driver Inattention/Distraction                           NaN   \n",
       "4  MANHATTAN             Alcohol Involvement                   Unspecified   \n",
       "\n",
       "  contributing_factor_vehicle_3 contributing_factor_vehicle_4  \\\n",
       "0                           NaN                           NaN   \n",
       "1                           NaN                           NaN   \n",
       "2                           NaN                           NaN   \n",
       "3                           NaN                           NaN   \n",
       "4                           NaN                           NaN   \n",
       "\n",
       "  contributing_factor_vehicle_5  cross_street_name        timestamp  \\\n",
       "0                           NaN    EAST 156 STREET  1/16/2014 23:30   \n",
       "1                           NaN     CLASSON AVENUE   8/13/2013 6:50   \n",
       "2                           NaN  VANDERBILT AVENUE   7/6/2013 21:25   \n",
       "3                           NaN                NaN    4/6/2019 9:50   \n",
       "4                           NaN     7 AVENUE SOUTH   2/17/2013 0:20   \n",
       "\n",
       "    latitude  longitude                   location  number_of_cyclist_injured  \\\n",
       "0  40.814934 -73.897645  (40.8149337, -73.8976455)                          0   \n",
       "1  40.694012 -73.961094  (40.6940116, -73.9610935)                          0   \n",
       "2  40.689469 -73.969105  (40.6894687, -73.9691048)                          0   \n",
       "3  40.592907 -73.795310     (40.592907, -73.79531)                          0   \n",
       "4  40.733633 -74.002786  (40.7336333, -74.0027856)                          0   \n",
       "\n",
       "   number_of_cyclist_killed  number_of_motorist_injured  \\\n",
       "0                         0                           2   \n",
       "1                         0                           0   \n",
       "2                         0                           0   \n",
       "3                         0                           0   \n",
       "4                         0                           0   \n",
       "\n",
       "   number_of_motorist_killed  number_of_pedestrians_injured  \\\n",
       "0                          0                              1   \n",
       "1                          0                              1   \n",
       "2                          0                              1   \n",
       "3                          0                              1   \n",
       "4                          0                              2   \n",
       "\n",
       "   number_of_pedestrians_killed  number_of_persons_injured  \\\n",
       "0                             0                          3   \n",
       "1                             0                          1   \n",
       "2                             0                          1   \n",
       "3                             0                          1   \n",
       "4                             0                          2   \n",
       "\n",
       "   number_of_persons_killed                off_street_name  \\\n",
       "0                       0.0                            NaN   \n",
       "1                       0.0                            NaN   \n",
       "2                       0.0                            NaN   \n",
       "3                       0.0  66-08     BEACH CHANNEL DRIVE   \n",
       "4                       0.0                            NaN   \n",
       "\n",
       "       on_street_name  unique_key vehicle_type_code1 vehicle_type_code2  \\\n",
       "0  SOUTHERN BOULEVARD       78403  PASSENGER VEHICLE     LIVERY VEHICLE   \n",
       "1       MYRTLE AVENUE      193101  PASSENGER VEHICLE            PEDICAB   \n",
       "2      DE KALB AVENUE      192934  PASSENGER VEHICLE            SCOOTER   \n",
       "3                 NaN     4109774              Sedan              Truck   \n",
       "4  CHRISTOPHER STREET       10452  PASSENGER VEHICLE     LIVERY VEHICLE   \n",
       "\n",
       "  vehicle_type_code_3 vehicle_type_code_4 vehicle_type_code_5  zip_code  \n",
       "0                 NaN                 NaN                 NaN   10455.0  \n",
       "1                 NaN                 NaN                 NaN   11205.0  \n",
       "2                 NaN                 NaN                 NaN   11205.0  \n",
       "3                 NaN                 NaN                 NaN   11692.0  \n",
       "4                 NaN                 NaN                 NaN   10014.0  "
      ]
     },
     "execution_count": 3,
     "metadata": {},
     "output_type": "execute_result"
    }
   ],
   "source": [
    "df.head()"
   ]
  },
  {
   "cell_type": "code",
   "execution_count": 4,
   "metadata": {
    "ExecuteTime": {
     "end_time": "2021-07-02T13:28:58.055773Z",
     "start_time": "2021-07-02T13:28:57.992716Z"
    }
   },
   "outputs": [
    {
     "name": "stdout",
     "output_type": "stream",
     "text": [
      "<class 'pandas.core.frame.DataFrame'>\n",
      "RangeIndex: 90071 entries, 0 to 90070\n",
      "Data columns (total 28 columns):\n",
      " #   Column                         Non-Null Count  Dtype  \n",
      "---  ------                         --------------  -----  \n",
      " 0   borough                        72697 non-null  object \n",
      " 1   contributing_factor_vehicle_1  87481 non-null  object \n",
      " 2   contributing_factor_vehicle_2  3319 non-null   object \n",
      " 3   contributing_factor_vehicle_3  833 non-null    object \n",
      " 4   contributing_factor_vehicle_4  281 non-null    object \n",
      " 5   contributing_factor_vehicle_5  110 non-null    object \n",
      " 6   cross_street_name              69278 non-null  object \n",
      " 7   timestamp                      90071 non-null  object \n",
      " 8   latitude                       83264 non-null  float64\n",
      " 9   longitude                      83264 non-null  float64\n",
      " 10  location                       83264 non-null  object \n",
      " 11  number_of_cyclist_injured      90071 non-null  int64  \n",
      " 12  number_of_cyclist_killed       90071 non-null  int64  \n",
      " 13  number_of_motorist_injured     90071 non-null  int64  \n",
      " 14  number_of_motorist_killed      90071 non-null  int64  \n",
      " 15  number_of_pedestrians_injured  90071 non-null  int64  \n",
      " 16  number_of_pedestrians_killed   90071 non-null  int64  \n",
      " 17  number_of_persons_injured      90071 non-null  int64  \n",
      " 18  number_of_persons_killed       90067 non-null  float64\n",
      " 19  off_street_name                11347 non-null  object \n",
      " 20  on_street_name                 78436 non-null  object \n",
      " 21  unique_key                     90071 non-null  int64  \n",
      " 22  vehicle_type_code1             85114 non-null  object \n",
      " 23  vehicle_type_code2             3238 non-null   object \n",
      " 24  vehicle_type_code_3            831 non-null    object \n",
      " 25  vehicle_type_code_4            282 non-null    object \n",
      " 26  vehicle_type_code_5            109 non-null    object \n",
      " 27  zip_code                       72689 non-null  float64\n",
      "dtypes: float64(4), int64(8), object(16)\n",
      "memory usage: 19.2+ MB\n"
     ]
    }
   ],
   "source": [
    "df.info()"
   ]
  },
  {
   "cell_type": "code",
   "execution_count": 5,
   "metadata": {
    "ExecuteTime": {
     "end_time": "2021-07-02T13:28:58.103853Z",
     "start_time": "2021-07-02T13:28:58.056811Z"
    }
   },
   "outputs": [
    {
     "data": {
      "text/plain": [
       "borough                          17374\n",
       "contributing_factor_vehicle_1     2590\n",
       "contributing_factor_vehicle_2    86752\n",
       "contributing_factor_vehicle_3    89238\n",
       "contributing_factor_vehicle_4    89790\n",
       "contributing_factor_vehicle_5    89961\n",
       "cross_street_name                20793\n",
       "timestamp                            0\n",
       "latitude                          6807\n",
       "longitude                         6807\n",
       "location                          6807\n",
       "number_of_cyclist_injured            0\n",
       "number_of_cyclist_killed             0\n",
       "number_of_motorist_injured           0\n",
       "number_of_motorist_killed            0\n",
       "number_of_pedestrians_injured        0\n",
       "number_of_pedestrians_killed         0\n",
       "number_of_persons_injured            0\n",
       "number_of_persons_killed             4\n",
       "off_street_name                  78724\n",
       "on_street_name                   11635\n",
       "unique_key                           0\n",
       "vehicle_type_code1                4957\n",
       "vehicle_type_code2               86833\n",
       "vehicle_type_code_3              89240\n",
       "vehicle_type_code_4              89789\n",
       "vehicle_type_code_5              89962\n",
       "zip_code                         17382\n",
       "dtype: int64"
      ]
     },
     "execution_count": 5,
     "metadata": {},
     "output_type": "execute_result"
    }
   ],
   "source": [
    "df.isna().sum()"
   ]
  },
  {
   "cell_type": "code",
   "execution_count": 6,
   "metadata": {
    "ExecuteTime": {
     "end_time": "2021-07-02T13:28:58.119868Z",
     "start_time": "2021-07-02T13:28:58.104854Z"
    }
   },
   "outputs": [],
   "source": [
    "column_names = ['contributing_factor_vehicle_2', 'contributing_factor_vehicle_3', 'contributing_factor_vehicle_4', 'contributing_factor_vehicle_5', 'vehicle_type_code2', 'vehicle_type_code_3',  'vehicle_type_code_4',  'vehicle_type_code_5', 'off_street_name' ]\n",
    "df.drop(columns = column_names, inplace = True, axis =1)"
   ]
  },
  {
   "cell_type": "code",
   "execution_count": 7,
   "metadata": {
    "ExecuteTime": {
     "end_time": "2021-07-02T13:28:58.151896Z",
     "start_time": "2021-07-02T13:28:58.120869Z"
    }
   },
   "outputs": [
    {
     "name": "stdout",
     "output_type": "stream",
     "text": [
      "<class 'pandas.core.frame.DataFrame'>\n",
      "RangeIndex: 90071 entries, 0 to 90070\n",
      "Data columns (total 19 columns):\n",
      " #   Column                         Non-Null Count  Dtype  \n",
      "---  ------                         --------------  -----  \n",
      " 0   borough                        72697 non-null  object \n",
      " 1   contributing_factor_vehicle_1  87481 non-null  object \n",
      " 2   cross_street_name              69278 non-null  object \n",
      " 3   timestamp                      90071 non-null  object \n",
      " 4   latitude                       83264 non-null  float64\n",
      " 5   longitude                      83264 non-null  float64\n",
      " 6   location                       83264 non-null  object \n",
      " 7   number_of_cyclist_injured      90071 non-null  int64  \n",
      " 8   number_of_cyclist_killed       90071 non-null  int64  \n",
      " 9   number_of_motorist_injured     90071 non-null  int64  \n",
      " 10  number_of_motorist_killed      90071 non-null  int64  \n",
      " 11  number_of_pedestrians_injured  90071 non-null  int64  \n",
      " 12  number_of_pedestrians_killed   90071 non-null  int64  \n",
      " 13  number_of_persons_injured      90071 non-null  int64  \n",
      " 14  number_of_persons_killed       90067 non-null  float64\n",
      " 15  on_street_name                 78436 non-null  object \n",
      " 16  unique_key                     90071 non-null  int64  \n",
      " 17  vehicle_type_code1             85114 non-null  object \n",
      " 18  zip_code                       72689 non-null  float64\n",
      "dtypes: float64(4), int64(8), object(7)\n",
      "memory usage: 13.1+ MB\n"
     ]
    }
   ],
   "source": [
    "df.info()"
   ]
  },
  {
   "cell_type": "code",
   "execution_count": 8,
   "metadata": {
    "ExecuteTime": {
     "end_time": "2021-07-02T13:28:58.183927Z",
     "start_time": "2021-07-02T13:28:58.152897Z"
    }
   },
   "outputs": [
    {
     "data": {
      "text/plain": [
       "borough                          17374\n",
       "contributing_factor_vehicle_1     2590\n",
       "cross_street_name                20793\n",
       "timestamp                            0\n",
       "latitude                          6807\n",
       "longitude                         6807\n",
       "location                          6807\n",
       "number_of_cyclist_injured            0\n",
       "number_of_cyclist_killed             0\n",
       "number_of_motorist_injured           0\n",
       "number_of_motorist_killed            0\n",
       "number_of_pedestrians_injured        0\n",
       "number_of_pedestrians_killed         0\n",
       "number_of_persons_injured            0\n",
       "number_of_persons_killed             4\n",
       "on_street_name                   11635\n",
       "unique_key                           0\n",
       "vehicle_type_code1                4957\n",
       "zip_code                         17382\n",
       "dtype: int64"
      ]
     },
     "execution_count": 8,
     "metadata": {},
     "output_type": "execute_result"
    }
   ],
   "source": [
    "df.isna().sum()"
   ]
  },
  {
   "cell_type": "code",
   "execution_count": 9,
   "metadata": {
    "ExecuteTime": {
     "end_time": "2021-07-02T13:28:58.215338Z",
     "start_time": "2021-07-02T13:28:58.184927Z"
    }
   },
   "outputs": [],
   "source": [
    "df = df.dropna(subset = ['location'])"
   ]
  },
  {
   "cell_type": "code",
   "execution_count": 10,
   "metadata": {
    "ExecuteTime": {
     "end_time": "2021-07-02T13:28:58.247401Z",
     "start_time": "2021-07-02T13:28:58.216340Z"
    }
   },
   "outputs": [
    {
     "data": {
      "text/plain": [
       "borough                          12123\n",
       "contributing_factor_vehicle_1     2427\n",
       "cross_street_name                19522\n",
       "timestamp                            0\n",
       "latitude                             0\n",
       "longitude                            0\n",
       "location                             0\n",
       "number_of_cyclist_injured            0\n",
       "number_of_cyclist_killed             0\n",
       "number_of_motorist_injured           0\n",
       "number_of_motorist_killed            0\n",
       "number_of_pedestrians_injured        0\n",
       "number_of_pedestrians_killed         0\n",
       "number_of_persons_injured            0\n",
       "number_of_persons_killed             4\n",
       "on_street_name                   10593\n",
       "unique_key                           0\n",
       "vehicle_type_code1                4685\n",
       "zip_code                         12130\n",
       "dtype: int64"
      ]
     },
     "execution_count": 10,
     "metadata": {},
     "output_type": "execute_result"
    }
   ],
   "source": [
    "df.isna().sum()"
   ]
  },
  {
   "cell_type": "code",
   "execution_count": 11,
   "metadata": {
    "ExecuteTime": {
     "end_time": "2021-07-02T13:28:58.263416Z",
     "start_time": "2021-07-02T13:28:58.248402Z"
    }
   },
   "outputs": [
    {
     "data": {
      "text/plain": [
       "Unspecified                                              33191\n",
       "Driver Inattention/Distraction                           16067\n",
       "Failure to Yield Right-of-Way                            14887\n",
       "Backing Unsafely                                          3468\n",
       "Pedestrian/Bicyclist/Other Pedestrian Error/Confusion     1947\n",
       "Passenger Distraction                                     1315\n",
       "View Obstructed/Limited                                   1177\n",
       "Traffic Control Disregarded                                931\n",
       "Other Vehicular                                            906\n",
       "Glare                                                      759\n",
       "Aggressive Driving/Road Rage                               717\n",
       "Driver Inexperience                                        632\n",
       "Unsafe Speed                                               613\n",
       "Pavement Slippery                                          471\n",
       "Alcohol Involvement                                        468\n",
       "Turning Improperly                                         410\n",
       "Passing Too Closely                                        371\n",
       "Passing or Lane Usage Improper                             313\n",
       "Prescription Medication                                    294\n",
       "Physical Disability                                        268\n",
       "Outside Car Distraction                                    217\n",
       "Following Too Closely                                      150\n",
       "Reaction to Uninvolved Vehicle                             144\n",
       "Lost Consciousness                                         142\n",
       "Oversized Vehicle                                          119\n",
       "Fatigued/Drowsy                                            110\n",
       "Other Electronic Device                                     96\n",
       "Brakes Defective                                            89\n",
       "Unsafe Lane Changing                                        88\n",
       "Obstruction/Debris                                          65\n",
       "Illness                                                     48\n",
       "Driverless/Runaway Vehicle                                  47\n",
       "Failure to Keep Right                                       31\n",
       "Reaction to Other Uninvolved Vehicle                        28\n",
       "Accelerator Defective                                       27\n",
       "Drugs (Illegal)                                             25\n",
       "Illnes                                                      24\n",
       "Traffic Control Device Improper/Non-Working                 21\n",
       "Drugs (illegal)                                             20\n",
       "Fell Asleep                                                 19\n",
       "Tire Failure/Inadequate                                     16\n",
       "Tinted Windows                                              14\n",
       "Lane Marking Improper/Inadequate                            12\n",
       "Pavement Defective                                          11\n",
       "Other Lighting Defects                                      10\n",
       "Steering Failure                                             9\n",
       "Cell Phone (hand-Held)                                       9\n",
       "Cell Phone (hands-free)                                      8\n",
       "Shoulders Defective/Improper                                 6\n",
       "Windshield Inadequate                                        5\n",
       "80                                                           4\n",
       "Tow Hitch Defective                                          3\n",
       "Cell Phone (hand-held)                                       3\n",
       "Vehicle Vandalism                                            3\n",
       "Headlights Defective                                         3\n",
       "Animals Action                                               3\n",
       "Texting                                                      2\n",
       "Using On Board Navigation Device                             1\n",
       "Name: contributing_factor_vehicle_1, dtype: int64"
      ]
     },
     "execution_count": 11,
     "metadata": {},
     "output_type": "execute_result"
    }
   ],
   "source": [
    "df['contributing_factor_vehicle_1'].value_counts()"
   ]
  },
  {
   "cell_type": "code",
   "execution_count": 12,
   "metadata": {
    "ExecuteTime": {
     "end_time": "2021-07-02T13:28:58.295445Z",
     "start_time": "2021-07-02T13:28:58.264417Z"
    }
   },
   "outputs": [
    {
     "data": {
      "text/html": [
       "<div>\n",
       "<style scoped>\n",
       "    .dataframe tbody tr th:only-of-type {\n",
       "        vertical-align: middle;\n",
       "    }\n",
       "\n",
       "    .dataframe tbody tr th {\n",
       "        vertical-align: top;\n",
       "    }\n",
       "\n",
       "    .dataframe thead th {\n",
       "        text-align: right;\n",
       "    }\n",
       "</style>\n",
       "<table border=\"1\" class=\"dataframe\">\n",
       "  <thead>\n",
       "    <tr style=\"text-align: right;\">\n",
       "      <th></th>\n",
       "      <th>borough</th>\n",
       "      <th>contributing_factor_vehicle_1</th>\n",
       "      <th>cross_street_name</th>\n",
       "      <th>timestamp</th>\n",
       "      <th>latitude</th>\n",
       "      <th>longitude</th>\n",
       "      <th>location</th>\n",
       "      <th>number_of_cyclist_injured</th>\n",
       "      <th>number_of_cyclist_killed</th>\n",
       "      <th>number_of_motorist_injured</th>\n",
       "      <th>number_of_motorist_killed</th>\n",
       "      <th>number_of_pedestrians_injured</th>\n",
       "      <th>number_of_pedestrians_killed</th>\n",
       "      <th>number_of_persons_injured</th>\n",
       "      <th>number_of_persons_killed</th>\n",
       "      <th>on_street_name</th>\n",
       "      <th>unique_key</th>\n",
       "      <th>vehicle_type_code1</th>\n",
       "      <th>zip_code</th>\n",
       "    </tr>\n",
       "  </thead>\n",
       "  <tbody>\n",
       "    <tr>\n",
       "      <th>0</th>\n",
       "      <td>BRONX</td>\n",
       "      <td>Unspecified</td>\n",
       "      <td>EAST 156 STREET</td>\n",
       "      <td>1/16/2014 23:30</td>\n",
       "      <td>40.814934</td>\n",
       "      <td>-73.897645</td>\n",
       "      <td>(40.8149337, -73.8976455)</td>\n",
       "      <td>0</td>\n",
       "      <td>0</td>\n",
       "      <td>2</td>\n",
       "      <td>0</td>\n",
       "      <td>1</td>\n",
       "      <td>0</td>\n",
       "      <td>3</td>\n",
       "      <td>0.0</td>\n",
       "      <td>SOUTHERN BOULEVARD</td>\n",
       "      <td>78403</td>\n",
       "      <td>PASSENGER VEHICLE</td>\n",
       "      <td>10455.0</td>\n",
       "    </tr>\n",
       "    <tr>\n",
       "      <th>1</th>\n",
       "      <td>BROOKLYN</td>\n",
       "      <td>Unspecified</td>\n",
       "      <td>CLASSON AVENUE</td>\n",
       "      <td>8/13/2013 6:50</td>\n",
       "      <td>40.694012</td>\n",
       "      <td>-73.961094</td>\n",
       "      <td>(40.6940116, -73.9610935)</td>\n",
       "      <td>0</td>\n",
       "      <td>0</td>\n",
       "      <td>0</td>\n",
       "      <td>0</td>\n",
       "      <td>1</td>\n",
       "      <td>0</td>\n",
       "      <td>1</td>\n",
       "      <td>0.0</td>\n",
       "      <td>MYRTLE AVENUE</td>\n",
       "      <td>193101</td>\n",
       "      <td>PASSENGER VEHICLE</td>\n",
       "      <td>11205.0</td>\n",
       "    </tr>\n",
       "    <tr>\n",
       "      <th>2</th>\n",
       "      <td>BROOKLYN</td>\n",
       "      <td>Unspecified</td>\n",
       "      <td>VANDERBILT AVENUE</td>\n",
       "      <td>7/6/2013 21:25</td>\n",
       "      <td>40.689469</td>\n",
       "      <td>-73.969105</td>\n",
       "      <td>(40.6894687, -73.9691048)</td>\n",
       "      <td>0</td>\n",
       "      <td>0</td>\n",
       "      <td>0</td>\n",
       "      <td>0</td>\n",
       "      <td>1</td>\n",
       "      <td>0</td>\n",
       "      <td>1</td>\n",
       "      <td>0.0</td>\n",
       "      <td>DE KALB AVENUE</td>\n",
       "      <td>192934</td>\n",
       "      <td>PASSENGER VEHICLE</td>\n",
       "      <td>11205.0</td>\n",
       "    </tr>\n",
       "    <tr>\n",
       "      <th>3</th>\n",
       "      <td>QUEENS</td>\n",
       "      <td>Driver Inattention/Distraction</td>\n",
       "      <td>NaN</td>\n",
       "      <td>4/6/2019 9:50</td>\n",
       "      <td>40.592907</td>\n",
       "      <td>-73.795310</td>\n",
       "      <td>(40.592907, -73.79531)</td>\n",
       "      <td>0</td>\n",
       "      <td>0</td>\n",
       "      <td>0</td>\n",
       "      <td>0</td>\n",
       "      <td>1</td>\n",
       "      <td>0</td>\n",
       "      <td>1</td>\n",
       "      <td>0.0</td>\n",
       "      <td>NaN</td>\n",
       "      <td>4109774</td>\n",
       "      <td>Sedan</td>\n",
       "      <td>11692.0</td>\n",
       "    </tr>\n",
       "    <tr>\n",
       "      <th>4</th>\n",
       "      <td>MANHATTAN</td>\n",
       "      <td>Alcohol Involvement</td>\n",
       "      <td>7 AVENUE SOUTH</td>\n",
       "      <td>2/17/2013 0:20</td>\n",
       "      <td>40.733633</td>\n",
       "      <td>-74.002786</td>\n",
       "      <td>(40.7336333, -74.0027856)</td>\n",
       "      <td>0</td>\n",
       "      <td>0</td>\n",
       "      <td>0</td>\n",
       "      <td>0</td>\n",
       "      <td>2</td>\n",
       "      <td>0</td>\n",
       "      <td>2</td>\n",
       "      <td>0.0</td>\n",
       "      <td>CHRISTOPHER STREET</td>\n",
       "      <td>10452</td>\n",
       "      <td>PASSENGER VEHICLE</td>\n",
       "      <td>10014.0</td>\n",
       "    </tr>\n",
       "    <tr>\n",
       "      <th>...</th>\n",
       "      <td>...</td>\n",
       "      <td>...</td>\n",
       "      <td>...</td>\n",
       "      <td>...</td>\n",
       "      <td>...</td>\n",
       "      <td>...</td>\n",
       "      <td>...</td>\n",
       "      <td>...</td>\n",
       "      <td>...</td>\n",
       "      <td>...</td>\n",
       "      <td>...</td>\n",
       "      <td>...</td>\n",
       "      <td>...</td>\n",
       "      <td>...</td>\n",
       "      <td>...</td>\n",
       "      <td>...</td>\n",
       "      <td>...</td>\n",
       "      <td>...</td>\n",
       "      <td>...</td>\n",
       "    </tr>\n",
       "    <tr>\n",
       "      <th>103</th>\n",
       "      <td>BROOKLYN</td>\n",
       "      <td>Brakes Defective</td>\n",
       "      <td>NaN</td>\n",
       "      <td>3/5/2018 22:05</td>\n",
       "      <td>40.716286</td>\n",
       "      <td>-73.931200</td>\n",
       "      <td>(40.716286, -73.9312)</td>\n",
       "      <td>0</td>\n",
       "      <td>0</td>\n",
       "      <td>0</td>\n",
       "      <td>0</td>\n",
       "      <td>1</td>\n",
       "      <td>0</td>\n",
       "      <td>1</td>\n",
       "      <td>0.0</td>\n",
       "      <td>NaN</td>\n",
       "      <td>3857066</td>\n",
       "      <td>Flat Bed</td>\n",
       "      <td>11211.0</td>\n",
       "    </tr>\n",
       "    <tr>\n",
       "      <th>104</th>\n",
       "      <td>BROOKLYN</td>\n",
       "      <td>Driver Inexperience</td>\n",
       "      <td>NaN</td>\n",
       "      <td>10/23/2019 19:23</td>\n",
       "      <td>40.715660</td>\n",
       "      <td>-73.958710</td>\n",
       "      <td>(40.71566, -73.95871)</td>\n",
       "      <td>0</td>\n",
       "      <td>0</td>\n",
       "      <td>1</td>\n",
       "      <td>0</td>\n",
       "      <td>1</td>\n",
       "      <td>0</td>\n",
       "      <td>2</td>\n",
       "      <td>0.0</td>\n",
       "      <td>NaN</td>\n",
       "      <td>4228321</td>\n",
       "      <td>Sedan</td>\n",
       "      <td>11211.0</td>\n",
       "    </tr>\n",
       "    <tr>\n",
       "      <th>105</th>\n",
       "      <td>BROOKLYN</td>\n",
       "      <td>Driver Inattention/Distraction</td>\n",
       "      <td>BAY 37 STREET</td>\n",
       "      <td>3/18/2019 19:45</td>\n",
       "      <td>40.598800</td>\n",
       "      <td>-73.988660</td>\n",
       "      <td>(40.5988, -73.98866)</td>\n",
       "      <td>0</td>\n",
       "      <td>0</td>\n",
       "      <td>0</td>\n",
       "      <td>0</td>\n",
       "      <td>1</td>\n",
       "      <td>0</td>\n",
       "      <td>1</td>\n",
       "      <td>0.0</td>\n",
       "      <td>86 STREET</td>\n",
       "      <td>4100142</td>\n",
       "      <td>Station Wagon/Sport Utility Vehicle</td>\n",
       "      <td>11214.0</td>\n",
       "    </tr>\n",
       "    <tr>\n",
       "      <th>106</th>\n",
       "      <td>BROOKLYN</td>\n",
       "      <td>Passing Too Closely</td>\n",
       "      <td>LINCOLN PLACE</td>\n",
       "      <td>4/5/2017 11:55</td>\n",
       "      <td>40.670746</td>\n",
       "      <td>-73.950424</td>\n",
       "      <td>(40.670746, -73.950424)</td>\n",
       "      <td>0</td>\n",
       "      <td>0</td>\n",
       "      <td>1</td>\n",
       "      <td>0</td>\n",
       "      <td>2</td>\n",
       "      <td>0</td>\n",
       "      <td>3</td>\n",
       "      <td>0.0</td>\n",
       "      <td>NOSTRAND AVENUE</td>\n",
       "      <td>3646142</td>\n",
       "      <td>Sedan</td>\n",
       "      <td>11216.0</td>\n",
       "    </tr>\n",
       "    <tr>\n",
       "      <th>107</th>\n",
       "      <td>BROOKLYN</td>\n",
       "      <td>Unspecified</td>\n",
       "      <td>HERKIMER STREET</td>\n",
       "      <td>8/22/2014 13:36</td>\n",
       "      <td>40.679636</td>\n",
       "      <td>-73.949583</td>\n",
       "      <td>(40.6796356, -73.9495828)</td>\n",
       "      <td>0</td>\n",
       "      <td>0</td>\n",
       "      <td>0</td>\n",
       "      <td>0</td>\n",
       "      <td>2</td>\n",
       "      <td>0</td>\n",
       "      <td>2</td>\n",
       "      <td>0.0</td>\n",
       "      <td>NOSTRAND AVENUE</td>\n",
       "      <td>1012292</td>\n",
       "      <td>SMALL COM VEH(4 TIRES)</td>\n",
       "      <td>11216.0</td>\n",
       "    </tr>\n",
       "  </tbody>\n",
       "</table>\n",
       "<p>100 rows × 19 columns</p>\n",
       "</div>"
      ],
      "text/plain": [
       "       borough   contributing_factor_vehicle_1  cross_street_name  \\\n",
       "0        BRONX                     Unspecified    EAST 156 STREET   \n",
       "1     BROOKLYN                     Unspecified     CLASSON AVENUE   \n",
       "2     BROOKLYN                     Unspecified  VANDERBILT AVENUE   \n",
       "3       QUEENS  Driver Inattention/Distraction                NaN   \n",
       "4    MANHATTAN             Alcohol Involvement     7 AVENUE SOUTH   \n",
       "..         ...                             ...                ...   \n",
       "103   BROOKLYN                Brakes Defective                NaN   \n",
       "104   BROOKLYN             Driver Inexperience                NaN   \n",
       "105   BROOKLYN  Driver Inattention/Distraction      BAY 37 STREET   \n",
       "106   BROOKLYN             Passing Too Closely      LINCOLN PLACE   \n",
       "107   BROOKLYN                     Unspecified    HERKIMER STREET   \n",
       "\n",
       "            timestamp   latitude  longitude                   location  \\\n",
       "0     1/16/2014 23:30  40.814934 -73.897645  (40.8149337, -73.8976455)   \n",
       "1      8/13/2013 6:50  40.694012 -73.961094  (40.6940116, -73.9610935)   \n",
       "2      7/6/2013 21:25  40.689469 -73.969105  (40.6894687, -73.9691048)   \n",
       "3       4/6/2019 9:50  40.592907 -73.795310     (40.592907, -73.79531)   \n",
       "4      2/17/2013 0:20  40.733633 -74.002786  (40.7336333, -74.0027856)   \n",
       "..                ...        ...        ...                        ...   \n",
       "103    3/5/2018 22:05  40.716286 -73.931200      (40.716286, -73.9312)   \n",
       "104  10/23/2019 19:23  40.715660 -73.958710      (40.71566, -73.95871)   \n",
       "105   3/18/2019 19:45  40.598800 -73.988660       (40.5988, -73.98866)   \n",
       "106    4/5/2017 11:55  40.670746 -73.950424    (40.670746, -73.950424)   \n",
       "107   8/22/2014 13:36  40.679636 -73.949583  (40.6796356, -73.9495828)   \n",
       "\n",
       "     number_of_cyclist_injured  number_of_cyclist_killed  \\\n",
       "0                            0                         0   \n",
       "1                            0                         0   \n",
       "2                            0                         0   \n",
       "3                            0                         0   \n",
       "4                            0                         0   \n",
       "..                         ...                       ...   \n",
       "103                          0                         0   \n",
       "104                          0                         0   \n",
       "105                          0                         0   \n",
       "106                          0                         0   \n",
       "107                          0                         0   \n",
       "\n",
       "     number_of_motorist_injured  number_of_motorist_killed  \\\n",
       "0                             2                          0   \n",
       "1                             0                          0   \n",
       "2                             0                          0   \n",
       "3                             0                          0   \n",
       "4                             0                          0   \n",
       "..                          ...                        ...   \n",
       "103                           0                          0   \n",
       "104                           1                          0   \n",
       "105                           0                          0   \n",
       "106                           1                          0   \n",
       "107                           0                          0   \n",
       "\n",
       "     number_of_pedestrians_injured  number_of_pedestrians_killed  \\\n",
       "0                                1                             0   \n",
       "1                                1                             0   \n",
       "2                                1                             0   \n",
       "3                                1                             0   \n",
       "4                                2                             0   \n",
       "..                             ...                           ...   \n",
       "103                              1                             0   \n",
       "104                              1                             0   \n",
       "105                              1                             0   \n",
       "106                              2                             0   \n",
       "107                              2                             0   \n",
       "\n",
       "     number_of_persons_injured  number_of_persons_killed      on_street_name  \\\n",
       "0                            3                       0.0  SOUTHERN BOULEVARD   \n",
       "1                            1                       0.0       MYRTLE AVENUE   \n",
       "2                            1                       0.0      DE KALB AVENUE   \n",
       "3                            1                       0.0                 NaN   \n",
       "4                            2                       0.0  CHRISTOPHER STREET   \n",
       "..                         ...                       ...                 ...   \n",
       "103                          1                       0.0                 NaN   \n",
       "104                          2                       0.0                 NaN   \n",
       "105                          1                       0.0           86 STREET   \n",
       "106                          3                       0.0     NOSTRAND AVENUE   \n",
       "107                          2                       0.0     NOSTRAND AVENUE   \n",
       "\n",
       "     unique_key                   vehicle_type_code1  zip_code  \n",
       "0         78403                    PASSENGER VEHICLE   10455.0  \n",
       "1        193101                    PASSENGER VEHICLE   11205.0  \n",
       "2        192934                    PASSENGER VEHICLE   11205.0  \n",
       "3       4109774                                Sedan   11692.0  \n",
       "4         10452                    PASSENGER VEHICLE   10014.0  \n",
       "..          ...                                  ...       ...  \n",
       "103     3857066                             Flat Bed   11211.0  \n",
       "104     4228321                                Sedan   11211.0  \n",
       "105     4100142  Station Wagon/Sport Utility Vehicle   11214.0  \n",
       "106     3646142                                Sedan   11216.0  \n",
       "107     1012292               SMALL COM VEH(4 TIRES)   11216.0  \n",
       "\n",
       "[100 rows x 19 columns]"
      ]
     },
     "execution_count": 12,
     "metadata": {},
     "output_type": "execute_result"
    }
   ],
   "source": [
    "df.head(100)"
   ]
  },
  {
   "cell_type": "code",
   "execution_count": 13,
   "metadata": {
    "ExecuteTime": {
     "end_time": "2021-07-02T13:28:58.311459Z",
     "start_time": "2021-07-02T13:28:58.296448Z"
    }
   },
   "outputs": [],
   "source": [
    "df = df[df.contributing_factor_vehicle_1 !=  'Unspecified']\n"
   ]
  },
  {
   "cell_type": "code",
   "execution_count": 14,
   "metadata": {
    "ExecuteTime": {
     "end_time": "2021-07-02T13:28:58.358501Z",
     "start_time": "2021-07-02T13:28:58.312460Z"
    }
   },
   "outputs": [
    {
     "name": "stdout",
     "output_type": "stream",
     "text": [
      "['QUEENS' 'MANHATTAN' 'BRONX' 'BROOKLYN' nan 'STATEN ISLAND']\n",
      "['Driver Inattention/Distraction' 'Alcohol Involvement'\n",
      " 'Failure to Keep Right' 'Traffic Control Disregarded' 'Other Vehicular'\n",
      " 'Physical Disability' 'Backing Unsafely' 'Failure to Yield Right-of-Way'\n",
      " 'Driver Inexperience' 'Unsafe Lane Changing' 'Turning Improperly'\n",
      " 'Brakes Defective' 'Aggressive Driving/Road Rage' 'Unsafe Speed'\n",
      " 'Passing or Lane Usage Improper' 'Oversized Vehicle'\n",
      " 'Pedestrian/Bicyclist/Other Pedestrian Error/Confusion'\n",
      " 'Tire Failure/Inadequate' 'Following Too Closely' 'Pavement Slippery'\n",
      " 'Driverless/Runaway Vehicle' 'Lost Consciousness'\n",
      " 'Prescription Medication' 'Illnes' 'View Obstructed/Limited'\n",
      " 'Fell Asleep' 'Passing Too Closely' 'Reaction to Uninvolved Vehicle' nan\n",
      " 'Glare' 'Obstruction/Debris' 'Passenger Distraction'\n",
      " 'Reaction to Other Uninvolved Vehicle' 'Cell Phone (hand-Held)'\n",
      " 'Traffic Control Device Improper/Non-Working' 'Outside Car Distraction'\n",
      " 'Drugs (illegal)' 'Other Electronic Device' 'Accelerator Defective'\n",
      " 'Fatigued/Drowsy' 'Illness' 'Tinted Windows' 'Other Lighting Defects'\n",
      " 'Steering Failure' 'Pavement Defective'\n",
      " 'Lane Marking Improper/Inadequate' 'Cell Phone (hand-held)'\n",
      " 'Cell Phone (hands-free)' 'Drugs (Illegal)'\n",
      " 'Shoulders Defective/Improper' 'Texting' 'Animals Action' '80'\n",
      " 'Windshield Inadequate' 'Vehicle Vandalism'\n",
      " 'Using On Board Navigation Device' 'Headlights Defective'\n",
      " 'Tow Hitch Defective']\n",
      "[nan '7 AVENUE SOUTH' '42 STREET' ... 'PENFIELD STREET' 'WEST 128 STREET'\n",
      " 'DEEMS AVENUE']\n",
      "['4/6/2019 9:50' '2/17/2013 0:20' '3/14/2016 13:00' ... '8/31/2019 20:15'\n",
      " '4/5/2021 12:40' '5/21/2019 16:41']\n",
      "[40.592907  40.7336333 40.674     ... 40.881744  40.87647   40.873184 ]\n",
      "[-73.79531   -74.0027856 -73.8721    ... -73.86166   -73.83704\n",
      " -73.85332  ]\n",
      "['(40.592907, -73.79531)' '(40.7336333, -74.0027856)' '(40.674, -73.8721)'\n",
      " ... '(40.863106, -73.86166)' '(40.87647, -73.83704)'\n",
      " '(40.873184, -73.85332)']\n",
      "[0 1 2]\n",
      "[0 2]\n",
      "[ 0  1  2 16  8  6  3  4  5 30  9 12 10  7 11]\n",
      "[0 1 2]\n",
      "[ 1  2  0  5  3  4  6  7 27 13  9]\n",
      "[0 1 2 6]\n",
      "[ 1  2  3 17  0  7 10  4  5  6 27 32 15 12  8  9]\n",
      "[ 0.  1.  2. nan  8.  4.]\n",
      "[nan 'CHRISTOPHER STREET' 'QUEENS BOULEVARD' ... 'CHRISTOPHER LANE'\n",
      " 'ALBION PLACE' '32 PLACE']\n",
      "[4109774   10452 3425418 ... 4200091 4404957 4140807]\n",
      "['Sedan' 'PASSENGER VEHICLE' '4 dr sedan' 'UNKNOWN' 'TAXI' 'BUS' 'PK'\n",
      " 'Station Wagon/Sport Utility Vehicle' 'OTHER' 'Tractor Truck Diesel'\n",
      " 'SPORT UTILITY / STATION WAGON' 'Tractor Truck Gasoline' 'fire truck'\n",
      " 'LIVERY VEHICLE' 'Van' 'Bus' 'Taxi' 'Dump' 'Pick-up Truck' 'Forkl'\n",
      " 'Box Truck' 'Flat Bed' 'Lift Boom' nan 'Tow Truck / Wrecker' 'E-BIKE'\n",
      " 'Bike' 'SCOOT' 'Motorscooter' 'Motorcycle' 'pick' 'VAN'\n",
      " 'SMALL COM VEH(4 TIRES)' 'PICK-UP TRUCK' 'E-Bike' 'van'\n",
      " 'Garbage or Refuse' 'Motorbike' 'TOW T' 'Concrete Mixer' 'SCOOTER'\n",
      " 'LARGE COM VEH(6 OR MORE TIRES)' 'MOTORCYCLE' 'ELEC. UNIC' 'Convertible'\n",
      " 'mta b' 'SCHOO' '2 dr sedan' 'Forklift' 'E-Scooter' 'Front-Load' 'E-Sco'\n",
      " 'Ambulance' 'Refrigerated Van' 'Open Body' 'tow t' 'Armored Truck'\n",
      " 'UNKNO' 'Moped' 'School Bus' 'DELIV' 'Stree' 'GRUMM' 'ELECT'\n",
      " 'Beverage Truck' 'PICK-' 'AMBULANCE' 'MOTOR' 'Hopper' 'Minicycle' 'Scoot'\n",
      " 'BICYCLE' 'LIMO' 'FORKL' 'ELECTRIC S' 'GOLF CART' 'FIRE' 'E-Bik' 'MTA B'\n",
      " 'Power Shov' 'Snow Plow' 'Minibike' 'DELV' 'Flat Rack' 'dirt' 'Pedicab'\n",
      " 'U-HAL' 'Carry All' 'Pick up tr' 'TRAILER' 'AMBUL' 'FIRE TRUCK'\n",
      " 'Bulk Agriculture' 'MOPED' 'Multi-Wheeled Vehicle' 'Motor' 'jeep' 'GOLF'\n",
      " 'SANMEN COU' 'PC' 'SCHOOL BUS' 'FORK' 'schoo' 'Tanker' '3-Door' 'bus'\n",
      " 'stree' 'motor' 'Chassis Cab' 'scoot' 'Commercial' 'DIRT' 'dark color'\n",
      " 'posta' 'BICYC' 'Ambul' 'Scooter' 'MINI' 'moped' 'COMME' 'E bik' 'UNKNW'\n",
      " 'AMB' 'FORD' 'USPS' 'ICE C' 'REFG' 'USPS TRUCK' 'AMBU' 'white' 'SKATE'\n",
      " 'pedicab' 'comme' 'forlift' 'tow' 'p/sh' 'mopad' 'sedan' 'forklift'\n",
      " 'LIGHT TRAI' 'TRACT' 'E SCO' 'GATOR' 'backh' 'DELIVERY' 'Ebike' 'forkl'\n",
      " 'Backhoe Lo' 'ELEC.' 'picku' 'suburban' 'DIRT BIKE' 'E BIK' 'ambul'\n",
      " 'GARBAGE TR' 'golf' 'none' 'E-BIK' 'SCOO' 'UNK' 'FDNY AMBUL' 'Subr'\n",
      " 'Tram' 'PAS' 'TRAC' 'subur' 'SPC' 'CONST' 'Pavin' 'U-Hau' 'elect' 'VAN/T'\n",
      " 'dump' 'FDNY FIRE']\n",
      "[11692. 10014. 11104. 10452. 10021. 10025. 11231. 11249. 11225. 10461.\n",
      " 10026. 10473. 10009. 10028. 11361. 10459. 10474. 11412. 11375. 11209.\n",
      " 11103. 11205. 10039. 10456. 10034. 11356. 10023. 10033. 11238. 10006.\n",
      " 11691.    nan 10001. 10011. 10017. 10018. 10036. 11101. 11372. 11385.\n",
      " 11201. 11203. 11204. 11206. 11208. 11211. 11214. 11216. 11217. 11218.\n",
      " 11221. 10457. 10458. 11226. 11229. 11230. 11233. 11234. 11235. 11365.\n",
      " 10005. 11423. 11421. 11369. 10454. 11239. 11378. 10470. 10122. 10107.\n",
      " 10472. 11420. 10305. 11427. 10301. 11363. 11224. 11228. 10032. 11379.\n",
      " 11370. 10453. 11102. 10304. 11419. 10024. 10463. 11357. 11418. 11109.\n",
      " 10468. 11417. 10007. 10031. 11366. 11106. 11435. 10455. 10128. 10065.\n",
      " 10027. 11237. 11364. 10465. 11232. 10010. 11416. 10037. 11222. 10030.\n",
      " 11429. 10462. 11374. 11433. 10308. 11367. 10306. 10069. 11411. 10035.\n",
      " 10038. 10475. 10012. 10040. 11436. 10075. 10312. 10004. 11004. 11360.\n",
      " 11415. 11422. 10310. 10020. 11693. 11358. 10471. 11362. 11428. 11426.\n",
      " 11414. 11105. 10000. 10168. 10314. 10309. 10165. 10307. 11694. 10464.\n",
      " 10105. 10172. 10302. 10281. 10282. 11001. 10303. 11040. 10280. 10119.\n",
      " 10169. 10121. 10153. 10112. 10278. 10123. 11697. 10178. 11430. 10170.\n",
      " 10106. 10103. 11005. 10002. 10003. 10013. 10016. 10019. 10022. 10029.\n",
      " 11354. 11355. 11368. 11373. 11377. 11413. 11432. 11434. 11207. 11210.\n",
      " 11212. 11213. 11215. 10451. 11219. 11220. 11223. 10460. 10466. 10467.\n",
      " 11236. 10469.]\n"
     ]
    }
   ],
   "source": [
    "for col in df:\n",
    "    print(df[col].unique())"
   ]
  },
  {
   "cell_type": "code",
   "execution_count": 15,
   "metadata": {
    "ExecuteTime": {
     "end_time": "2021-07-02T13:28:58.374516Z",
     "start_time": "2021-07-02T13:28:58.359502Z"
    }
   },
   "outputs": [
    {
     "data": {
      "text/plain": [
       "3175"
      ]
     },
     "execution_count": 15,
     "metadata": {},
     "output_type": "execute_result"
    }
   ],
   "source": [
    "df.on_street_name.nunique()"
   ]
  },
  {
   "cell_type": "code",
   "execution_count": null,
   "metadata": {},
   "outputs": [],
   "source": []
  },
  {
   "cell_type": "code",
   "execution_count": 16,
   "metadata": {
    "ExecuteTime": {
     "end_time": "2021-07-02T13:28:58.406544Z",
     "start_time": "2021-07-02T13:28:58.375517Z"
    }
   },
   "outputs": [],
   "source": [
    "df = df[df.latitude !=  0]\n",
    "df = df[df.latitude !=  0]"
   ]
  },
  {
   "cell_type": "code",
   "execution_count": null,
   "metadata": {},
   "outputs": [],
   "source": []
  },
  {
   "cell_type": "code",
   "execution_count": 17,
   "metadata": {
    "ExecuteTime": {
     "end_time": "2021-07-02T13:28:58.422559Z",
     "start_time": "2021-07-02T13:28:58.407545Z"
    }
   },
   "outputs": [
    {
     "data": {
      "text/plain": [
       "(50001, 19)"
      ]
     },
     "execution_count": 17,
     "metadata": {},
     "output_type": "execute_result"
    }
   ],
   "source": [
    "df.shape"
   ]
  },
  {
   "cell_type": "code",
   "execution_count": 26,
   "metadata": {
    "ExecuteTime": {
     "end_time": "2021-07-02T13:43:09.894715Z",
     "start_time": "2021-07-02T13:43:09.877694Z"
    }
   },
   "outputs": [],
   "source": [
    "import geopy\n",
    "from geopy.geocoders import Nominatim\n",
    "geocoder = Nominatim(user_agent = 'ozbunae@gmail.com')"
   ]
  },
  {
   "cell_type": "code",
   "execution_count": 33,
   "metadata": {
    "ExecuteTime": {
     "end_time": "2021-07-02T13:50:04.393170Z",
     "start_time": "2021-07-02T13:50:04.387214Z"
    }
   },
   "outputs": [],
   "source": [
    "from geopy.extra.rate_limiter import RateLimiter\n",
    "geocode = RateLimiter(geocoder.reverse, min_delay_seconds = 1) "
   ]
  },
  {
   "cell_type": "code",
   "execution_count": null,
   "metadata": {
    "ExecuteTime": {
     "start_time": "2021-07-02T13:58:14.567Z"
    }
   },
   "outputs": [
    {
     "name": "stderr",
     "output_type": "stream",
     "text": [
      "RateLimiter caught an error, retrying (0/2 tries). Called with (*((40.735504, -74.00838),), **{}).\n",
      "Traceback (most recent call last):\n",
      "  File \"C:\\Users\\ozbun\\anaconda3\\lib\\site-packages\\urllib3\\connection.py\", line 159, in _new_conn\n",
      "    conn = connection.create_connection(\n",
      "  File \"C:\\Users\\ozbun\\anaconda3\\lib\\site-packages\\urllib3\\util\\connection.py\", line 61, in create_connection\n",
      "    for res in socket.getaddrinfo(host, port, family, socket.SOCK_STREAM):\n",
      "  File \"C:\\Users\\ozbun\\anaconda3\\lib\\socket.py\", line 918, in getaddrinfo\n",
      "    for res in _socket.getaddrinfo(host, port, family, type, proto, flags):\n",
      "socket.gaierror: [Errno 11001] getaddrinfo failed\n",
      "\n",
      "During handling of the above exception, another exception occurred:\n",
      "\n",
      "Traceback (most recent call last):\n",
      "  File \"C:\\Users\\ozbun\\anaconda3\\lib\\site-packages\\urllib3\\connectionpool.py\", line 670, in urlopen\n",
      "    httplib_response = self._make_request(\n",
      "  File \"C:\\Users\\ozbun\\anaconda3\\lib\\site-packages\\urllib3\\connectionpool.py\", line 381, in _make_request\n",
      "    self._validate_conn(conn)\n",
      "  File \"C:\\Users\\ozbun\\anaconda3\\lib\\site-packages\\urllib3\\connectionpool.py\", line 978, in _validate_conn\n",
      "    conn.connect()\n",
      "  File \"C:\\Users\\ozbun\\anaconda3\\lib\\site-packages\\urllib3\\connection.py\", line 309, in connect\n",
      "    conn = self._new_conn()\n",
      "  File \"C:\\Users\\ozbun\\anaconda3\\lib\\site-packages\\urllib3\\connection.py\", line 171, in _new_conn\n",
      "    raise NewConnectionError(\n",
      "urllib3.exceptions.NewConnectionError: <urllib3.connection.HTTPSConnection object at 0x00000231FD2B6730>: Failed to establish a new connection: [Errno 11001] getaddrinfo failed\n",
      "\n",
      "During handling of the above exception, another exception occurred:\n",
      "\n",
      "Traceback (most recent call last):\n",
      "  File \"C:\\Users\\ozbun\\anaconda3\\lib\\site-packages\\requests\\adapters.py\", line 439, in send\n",
      "    resp = conn.urlopen(\n",
      "  File \"C:\\Users\\ozbun\\anaconda3\\lib\\site-packages\\urllib3\\connectionpool.py\", line 754, in urlopen\n",
      "    return self.urlopen(\n",
      "  File \"C:\\Users\\ozbun\\anaconda3\\lib\\site-packages\\urllib3\\connectionpool.py\", line 754, in urlopen\n",
      "    return self.urlopen(\n",
      "  File \"C:\\Users\\ozbun\\anaconda3\\lib\\site-packages\\urllib3\\connectionpool.py\", line 726, in urlopen\n",
      "    retries = retries.increment(\n",
      "  File \"C:\\Users\\ozbun\\anaconda3\\lib\\site-packages\\urllib3\\util\\retry.py\", line 446, in increment\n",
      "    raise MaxRetryError(_pool, url, error or ResponseError(cause))\n",
      "urllib3.exceptions.MaxRetryError: HTTPSConnectionPool(host='nominatim.openstreetmap.org', port=443): Max retries exceeded with url: /reverse?lat=40.735504&lon=-74.00838&format=json&addressdetails=1 (Caused by NewConnectionError('<urllib3.connection.HTTPSConnection object at 0x00000231FD2B6730>: Failed to establish a new connection: [Errno 11001] getaddrinfo failed'))\n",
      "\n",
      "During handling of the above exception, another exception occurred:\n",
      "\n",
      "Traceback (most recent call last):\n",
      "  File \"C:\\Users\\ozbun\\anaconda3\\lib\\site-packages\\geopy\\adapters.py\", line 387, in _request\n",
      "    resp = self.session.get(url, timeout=timeout, headers=headers)\n",
      "  File \"C:\\Users\\ozbun\\anaconda3\\lib\\site-packages\\requests\\sessions.py\", line 543, in get\n",
      "    return self.request('GET', url, **kwargs)\n",
      "  File \"C:\\Users\\ozbun\\anaconda3\\lib\\site-packages\\requests\\sessions.py\", line 530, in request\n",
      "    resp = self.send(prep, **send_kwargs)\n",
      "  File \"C:\\Users\\ozbun\\anaconda3\\lib\\site-packages\\requests\\sessions.py\", line 643, in send\n",
      "    r = adapter.send(request, **kwargs)\n",
      "  File \"C:\\Users\\ozbun\\anaconda3\\lib\\site-packages\\requests\\adapters.py\", line 516, in send\n",
      "    raise ConnectionError(e, request=request)\n",
      "requests.exceptions.ConnectionError: HTTPSConnectionPool(host='nominatim.openstreetmap.org', port=443): Max retries exceeded with url: /reverse?lat=40.735504&lon=-74.00838&format=json&addressdetails=1 (Caused by NewConnectionError('<urllib3.connection.HTTPSConnection object at 0x00000231FD2B6730>: Failed to establish a new connection: [Errno 11001] getaddrinfo failed'))\n",
      "\n",
      "During handling of the above exception, another exception occurred:\n",
      "\n",
      "Traceback (most recent call last):\n",
      "  File \"C:\\Users\\ozbun\\anaconda3\\lib\\site-packages\\geopy\\extra\\rate_limiter.py\", line 136, in _retries_gen\n",
      "    yield i  # Run the function.\n",
      "  File \"C:\\Users\\ozbun\\anaconda3\\lib\\site-packages\\geopy\\extra\\rate_limiter.py\", line 274, in __call__\n",
      "    res = self.func(*args, **kwargs)\n",
      "  File \"C:\\Users\\ozbun\\anaconda3\\lib\\site-packages\\geopy\\geocoders\\nominatim.py\", line 362, in reverse\n",
      "    return self._call_geocoder(url, callback, timeout=timeout)\n",
      "  File \"C:\\Users\\ozbun\\anaconda3\\lib\\site-packages\\geopy\\geocoders\\base.py\", line 360, in _call_geocoder\n",
      "    result = self.adapter.get_json(url, timeout=timeout, headers=req_headers)\n",
      "  File \"C:\\Users\\ozbun\\anaconda3\\lib\\site-packages\\geopy\\adapters.py\", line 377, in get_json\n",
      "    resp = self._request(url, timeout=timeout, headers=headers)\n",
      "  File \"C:\\Users\\ozbun\\anaconda3\\lib\\site-packages\\geopy\\adapters.py\", line 399, in _request\n",
      "    raise GeocoderUnavailable(message)\n",
      "geopy.exc.GeocoderUnavailable: HTTPSConnectionPool(host='nominatim.openstreetmap.org', port=443): Max retries exceeded with url: /reverse?lat=40.735504&lon=-74.00838&format=json&addressdetails=1 (Caused by NewConnectionError('<urllib3.connection.HTTPSConnection object at 0x00000231FD2B6730>: Failed to establish a new connection: [Errno 11001] getaddrinfo failed'))\n"
     ]
    }
   ],
   "source": [
    "df['Location'] = df.apply(\n",
    "   lambda row: geocode((row['latitude'], row['longitude'])),\n",
    "   axis=1)"
   ]
  },
  {
   "cell_type": "code",
   "execution_count": null,
   "metadata": {
    "ExecuteTime": {
     "start_time": "2021-07-02T15:58:48.330Z"
    }
   },
   "outputs": [],
   "source": [
    "def parse_zipcode(location):\n",
    "     if location and location.raw.get('address') and location.raw['address'].get('postcode'):\n",
    "        return location.raw['address']['postcode']\n",
    "        else:\n",
    "        return None\n",
    "df['Zipcode'] = df['Location'].apply(parse_zipcode)"
   ]
  },
  {
   "cell_type": "code",
   "execution_count": null,
   "metadata": {},
   "outputs": [],
   "source": []
  },
  {
   "cell_type": "code",
   "execution_count": null,
   "metadata": {},
   "outputs": [],
   "source": []
  },
  {
   "cell_type": "code",
   "execution_count": 31,
   "metadata": {
    "ExecuteTime": {
     "end_time": "2021-07-02T13:43:58.848445Z",
     "start_time": "2021-07-02T13:43:58.831428Z"
    }
   },
   "outputs": [],
   "source": [
    "def get_zipcode(df, geolocator, latitude, longitude):\n",
    "    location = geocode(latitude, longitude)\n",
    "    return location.raw['address']['postcode']\n"
   ]
  },
  {
   "cell_type": "code",
   "execution_count": 32,
   "metadata": {
    "ExecuteTime": {
     "end_time": "2021-07-02T13:43:59.638415Z",
     "start_time": "2021-07-02T13:43:59.599379Z"
    }
   },
   "outputs": [
    {
     "ename": "TypeError",
     "evalue": "reverse() takes 2 positional arguments but 3 were given",
     "output_type": "error",
     "traceback": [
      "\u001b[1;31m---------------------------------------------------------------------------\u001b[0m",
      "\u001b[1;31mTypeError\u001b[0m                                 Traceback (most recent call last)",
      "\u001b[1;32m<ipython-input-32-148c6b3f3ae4>\u001b[0m in \u001b[0;36m<module>\u001b[1;34m\u001b[0m\n\u001b[1;32m----> 1\u001b[1;33m \u001b[0mzipcodes\u001b[0m \u001b[1;33m=\u001b[0m \u001b[0mdf\u001b[0m\u001b[1;33m.\u001b[0m\u001b[0mapply\u001b[0m\u001b[1;33m(\u001b[0m\u001b[0mget_zipcode\u001b[0m\u001b[1;33m,\u001b[0m \u001b[0maxis\u001b[0m\u001b[1;33m=\u001b[0m\u001b[1;36m1\u001b[0m\u001b[1;33m,\u001b[0m \u001b[0mlatitude\u001b[0m\u001b[1;33m=\u001b[0m\u001b[1;34m'latitude'\u001b[0m\u001b[1;33m,\u001b[0m \u001b[0mlongitude\u001b[0m\u001b[1;33m=\u001b[0m\u001b[1;34m'longitude'\u001b[0m\u001b[1;33m)\u001b[0m\u001b[1;33m\u001b[0m\u001b[1;33m\u001b[0m\u001b[0m\n\u001b[0m",
      "\u001b[1;32m~\\anaconda3\\lib\\site-packages\\pandas\\core\\frame.py\u001b[0m in \u001b[0;36mapply\u001b[1;34m(self, func, axis, raw, result_type, args, **kwds)\u001b[0m\n\u001b[0;32m   7546\u001b[0m             \u001b[0mkwds\u001b[0m\u001b[1;33m=\u001b[0m\u001b[0mkwds\u001b[0m\u001b[1;33m,\u001b[0m\u001b[1;33m\u001b[0m\u001b[1;33m\u001b[0m\u001b[0m\n\u001b[0;32m   7547\u001b[0m         )\n\u001b[1;32m-> 7548\u001b[1;33m         \u001b[1;32mreturn\u001b[0m \u001b[0mop\u001b[0m\u001b[1;33m.\u001b[0m\u001b[0mget_result\u001b[0m\u001b[1;33m(\u001b[0m\u001b[1;33m)\u001b[0m\u001b[1;33m\u001b[0m\u001b[1;33m\u001b[0m\u001b[0m\n\u001b[0m\u001b[0;32m   7549\u001b[0m \u001b[1;33m\u001b[0m\u001b[0m\n\u001b[0;32m   7550\u001b[0m     \u001b[1;32mdef\u001b[0m \u001b[0mapplymap\u001b[0m\u001b[1;33m(\u001b[0m\u001b[0mself\u001b[0m\u001b[1;33m,\u001b[0m \u001b[0mfunc\u001b[0m\u001b[1;33m)\u001b[0m \u001b[1;33m->\u001b[0m \u001b[1;34m\"DataFrame\"\u001b[0m\u001b[1;33m:\u001b[0m\u001b[1;33m\u001b[0m\u001b[1;33m\u001b[0m\u001b[0m\n",
      "\u001b[1;32m~\\anaconda3\\lib\\site-packages\\pandas\\core\\apply.py\u001b[0m in \u001b[0;36mget_result\u001b[1;34m(self)\u001b[0m\n\u001b[0;32m    178\u001b[0m             \u001b[1;32mreturn\u001b[0m \u001b[0mself\u001b[0m\u001b[1;33m.\u001b[0m\u001b[0mapply_raw\u001b[0m\u001b[1;33m(\u001b[0m\u001b[1;33m)\u001b[0m\u001b[1;33m\u001b[0m\u001b[1;33m\u001b[0m\u001b[0m\n\u001b[0;32m    179\u001b[0m \u001b[1;33m\u001b[0m\u001b[0m\n\u001b[1;32m--> 180\u001b[1;33m         \u001b[1;32mreturn\u001b[0m \u001b[0mself\u001b[0m\u001b[1;33m.\u001b[0m\u001b[0mapply_standard\u001b[0m\u001b[1;33m(\u001b[0m\u001b[1;33m)\u001b[0m\u001b[1;33m\u001b[0m\u001b[1;33m\u001b[0m\u001b[0m\n\u001b[0m\u001b[0;32m    181\u001b[0m \u001b[1;33m\u001b[0m\u001b[0m\n\u001b[0;32m    182\u001b[0m     \u001b[1;32mdef\u001b[0m \u001b[0mapply_empty_result\u001b[0m\u001b[1;33m(\u001b[0m\u001b[0mself\u001b[0m\u001b[1;33m)\u001b[0m\u001b[1;33m:\u001b[0m\u001b[1;33m\u001b[0m\u001b[1;33m\u001b[0m\u001b[0m\n",
      "\u001b[1;32m~\\anaconda3\\lib\\site-packages\\pandas\\core\\apply.py\u001b[0m in \u001b[0;36mapply_standard\u001b[1;34m(self)\u001b[0m\n\u001b[0;32m    269\u001b[0m \u001b[1;33m\u001b[0m\u001b[0m\n\u001b[0;32m    270\u001b[0m     \u001b[1;32mdef\u001b[0m \u001b[0mapply_standard\u001b[0m\u001b[1;33m(\u001b[0m\u001b[0mself\u001b[0m\u001b[1;33m)\u001b[0m\u001b[1;33m:\u001b[0m\u001b[1;33m\u001b[0m\u001b[1;33m\u001b[0m\u001b[0m\n\u001b[1;32m--> 271\u001b[1;33m         \u001b[0mresults\u001b[0m\u001b[1;33m,\u001b[0m \u001b[0mres_index\u001b[0m \u001b[1;33m=\u001b[0m \u001b[0mself\u001b[0m\u001b[1;33m.\u001b[0m\u001b[0mapply_series_generator\u001b[0m\u001b[1;33m(\u001b[0m\u001b[1;33m)\u001b[0m\u001b[1;33m\u001b[0m\u001b[1;33m\u001b[0m\u001b[0m\n\u001b[0m\u001b[0;32m    272\u001b[0m \u001b[1;33m\u001b[0m\u001b[0m\n\u001b[0;32m    273\u001b[0m         \u001b[1;31m# wrap results\u001b[0m\u001b[1;33m\u001b[0m\u001b[1;33m\u001b[0m\u001b[1;33m\u001b[0m\u001b[0m\n",
      "\u001b[1;32m~\\anaconda3\\lib\\site-packages\\pandas\\core\\apply.py\u001b[0m in \u001b[0;36mapply_series_generator\u001b[1;34m(self)\u001b[0m\n\u001b[0;32m    298\u001b[0m                 \u001b[1;32mfor\u001b[0m \u001b[0mi\u001b[0m\u001b[1;33m,\u001b[0m \u001b[0mv\u001b[0m \u001b[1;32min\u001b[0m \u001b[0menumerate\u001b[0m\u001b[1;33m(\u001b[0m\u001b[0mseries_gen\u001b[0m\u001b[1;33m)\u001b[0m\u001b[1;33m:\u001b[0m\u001b[1;33m\u001b[0m\u001b[1;33m\u001b[0m\u001b[0m\n\u001b[0;32m    299\u001b[0m                     \u001b[1;31m# ignore SettingWithCopy here in case the user mutates\u001b[0m\u001b[1;33m\u001b[0m\u001b[1;33m\u001b[0m\u001b[1;33m\u001b[0m\u001b[0m\n\u001b[1;32m--> 300\u001b[1;33m                     \u001b[0mresults\u001b[0m\u001b[1;33m[\u001b[0m\u001b[0mi\u001b[0m\u001b[1;33m]\u001b[0m \u001b[1;33m=\u001b[0m \u001b[0mself\u001b[0m\u001b[1;33m.\u001b[0m\u001b[0mf\u001b[0m\u001b[1;33m(\u001b[0m\u001b[0mv\u001b[0m\u001b[1;33m)\u001b[0m\u001b[1;33m\u001b[0m\u001b[1;33m\u001b[0m\u001b[0m\n\u001b[0m\u001b[0;32m    301\u001b[0m                     \u001b[1;32mif\u001b[0m \u001b[0misinstance\u001b[0m\u001b[1;33m(\u001b[0m\u001b[0mresults\u001b[0m\u001b[1;33m[\u001b[0m\u001b[0mi\u001b[0m\u001b[1;33m]\u001b[0m\u001b[1;33m,\u001b[0m \u001b[0mABCSeries\u001b[0m\u001b[1;33m)\u001b[0m\u001b[1;33m:\u001b[0m\u001b[1;33m\u001b[0m\u001b[1;33m\u001b[0m\u001b[0m\n\u001b[0;32m    302\u001b[0m                         \u001b[1;31m# If we have a view on v, we need to make a copy because\u001b[0m\u001b[1;33m\u001b[0m\u001b[1;33m\u001b[0m\u001b[1;33m\u001b[0m\u001b[0m\n",
      "\u001b[1;32m~\\anaconda3\\lib\\site-packages\\pandas\\core\\apply.py\u001b[0m in \u001b[0;36mf\u001b[1;34m(x)\u001b[0m\n\u001b[0;32m    107\u001b[0m \u001b[1;33m\u001b[0m\u001b[0m\n\u001b[0;32m    108\u001b[0m             \u001b[1;32mdef\u001b[0m \u001b[0mf\u001b[0m\u001b[1;33m(\u001b[0m\u001b[0mx\u001b[0m\u001b[1;33m)\u001b[0m\u001b[1;33m:\u001b[0m\u001b[1;33m\u001b[0m\u001b[1;33m\u001b[0m\u001b[0m\n\u001b[1;32m--> 109\u001b[1;33m                 \u001b[1;32mreturn\u001b[0m \u001b[0mfunc\u001b[0m\u001b[1;33m(\u001b[0m\u001b[0mx\u001b[0m\u001b[1;33m,\u001b[0m \u001b[1;33m*\u001b[0m\u001b[0margs\u001b[0m\u001b[1;33m,\u001b[0m \u001b[1;33m**\u001b[0m\u001b[0mkwds\u001b[0m\u001b[1;33m)\u001b[0m\u001b[1;33m\u001b[0m\u001b[1;33m\u001b[0m\u001b[0m\n\u001b[0m\u001b[0;32m    110\u001b[0m \u001b[1;33m\u001b[0m\u001b[0m\n\u001b[0;32m    111\u001b[0m         \u001b[1;32melse\u001b[0m\u001b[1;33m:\u001b[0m\u001b[1;33m\u001b[0m\u001b[1;33m\u001b[0m\u001b[0m\n",
      "\u001b[1;32m<ipython-input-31-c08b1012299f>\u001b[0m in \u001b[0;36mget_zipcode\u001b[1;34m(df, latitude, longitude)\u001b[0m\n\u001b[0;32m      1\u001b[0m \u001b[1;32mdef\u001b[0m \u001b[0mget_zipcode\u001b[0m\u001b[1;33m(\u001b[0m\u001b[0mdf\u001b[0m\u001b[1;33m,\u001b[0m \u001b[0mlatitude\u001b[0m\u001b[1;33m,\u001b[0m \u001b[0mlongitude\u001b[0m\u001b[1;33m)\u001b[0m\u001b[1;33m:\u001b[0m\u001b[1;33m\u001b[0m\u001b[1;33m\u001b[0m\u001b[0m\n\u001b[1;32m----> 2\u001b[1;33m     \u001b[0mlocation\u001b[0m \u001b[1;33m=\u001b[0m \u001b[0mgeocode\u001b[0m\u001b[1;33m(\u001b[0m\u001b[0mlatitude\u001b[0m\u001b[1;33m,\u001b[0m \u001b[0mlongitude\u001b[0m\u001b[1;33m)\u001b[0m\u001b[1;33m\u001b[0m\u001b[1;33m\u001b[0m\u001b[0m\n\u001b[0m\u001b[0;32m      3\u001b[0m     \u001b[1;32mreturn\u001b[0m \u001b[0mlocation\u001b[0m\u001b[1;33m.\u001b[0m\u001b[0mraw\u001b[0m\u001b[1;33m[\u001b[0m\u001b[1;34m'address'\u001b[0m\u001b[1;33m]\u001b[0m\u001b[1;33m[\u001b[0m\u001b[1;34m'postcode'\u001b[0m\u001b[1;33m]\u001b[0m\u001b[1;33m\u001b[0m\u001b[1;33m\u001b[0m\u001b[0m\n",
      "\u001b[1;32m~\\anaconda3\\lib\\site-packages\\geopy\\extra\\rate_limiter.py\u001b[0m in \u001b[0;36m__call__\u001b[1;34m(self, *args, **kwargs)\u001b[0m\n\u001b[0;32m    272\u001b[0m             \u001b[0mself\u001b[0m\u001b[1;33m.\u001b[0m\u001b[0m_acquire_request_slot\u001b[0m\u001b[1;33m(\u001b[0m\u001b[1;33m)\u001b[0m\u001b[1;33m\u001b[0m\u001b[1;33m\u001b[0m\u001b[0m\n\u001b[0;32m    273\u001b[0m             \u001b[1;32mtry\u001b[0m\u001b[1;33m:\u001b[0m\u001b[1;33m\u001b[0m\u001b[1;33m\u001b[0m\u001b[0m\n\u001b[1;32m--> 274\u001b[1;33m                 \u001b[0mres\u001b[0m \u001b[1;33m=\u001b[0m \u001b[0mself\u001b[0m\u001b[1;33m.\u001b[0m\u001b[0mfunc\u001b[0m\u001b[1;33m(\u001b[0m\u001b[1;33m*\u001b[0m\u001b[0margs\u001b[0m\u001b[1;33m,\u001b[0m \u001b[1;33m**\u001b[0m\u001b[0mkwargs\u001b[0m\u001b[1;33m)\u001b[0m\u001b[1;33m\u001b[0m\u001b[1;33m\u001b[0m\u001b[0m\n\u001b[0m\u001b[0;32m    275\u001b[0m                 \u001b[1;32mif\u001b[0m \u001b[0minspect\u001b[0m\u001b[1;33m.\u001b[0m\u001b[0misawaitable\u001b[0m\u001b[1;33m(\u001b[0m\u001b[0mres\u001b[0m\u001b[1;33m)\u001b[0m\u001b[1;33m:\u001b[0m\u001b[1;33m\u001b[0m\u001b[1;33m\u001b[0m\u001b[0m\n\u001b[0;32m    276\u001b[0m                     raise ValueError(\n",
      "\u001b[1;31mTypeError\u001b[0m: reverse() takes 2 positional arguments but 3 were given"
     ]
    }
   ],
   "source": [
    "zipcodes = df.apply(get_zipcode, axis=1, latitude='latitude', longitude='longitude')"
   ]
  },
  {
   "cell_type": "code",
   "execution_count": null,
   "metadata": {},
   "outputs": [],
   "source": []
  }
 ],
 "metadata": {
  "kernelspec": {
   "display_name": "Python 3",
   "language": "python",
   "name": "python3"
  },
  "language_info": {
   "codemirror_mode": {
    "name": "ipython",
    "version": 3
   },
   "file_extension": ".py",
   "mimetype": "text/x-python",
   "name": "python",
   "nbconvert_exporter": "python",
   "pygments_lexer": "ipython3",
   "version": "3.8.5"
  },
  "toc": {
   "base_numbering": 1,
   "nav_menu": {},
   "number_sections": true,
   "sideBar": true,
   "skip_h1_title": false,
   "title_cell": "Table of Contents",
   "title_sidebar": "Contents",
   "toc_cell": false,
   "toc_position": {},
   "toc_section_display": true,
   "toc_window_display": false
  }
 },
 "nbformat": 4,
 "nbformat_minor": 4
}
